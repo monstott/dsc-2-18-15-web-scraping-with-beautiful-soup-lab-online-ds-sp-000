{
 "cells": [
  {
   "cell_type": "markdown",
   "metadata": {},
   "source": [
    "# Web Scraping with Beautiful Soup - Lab"
   ]
  },
  {
   "cell_type": "markdown",
   "metadata": {},
   "source": [
    "## Introduction\n",
    "\n",
    "Now that you've read and seen some docmentation regarding the use of Beautiful Soup, its time to practice and put that to work! In this lab you'll formalize some of our example code into functions and scrape the lyrics from an artist of your choice."
   ]
  },
  {
   "cell_type": "markdown",
   "metadata": {},
   "source": [
    "## Objectives\n",
    "You will be able to:\n",
    "* Scrape Static webpages\n",
    "* Select specific elements from the DOM"
   ]
  },
  {
   "cell_type": "markdown",
   "metadata": {},
   "source": [
    "## Link Scraping\n",
    "\n",
    "Write a function to collect the links to each of the song pages from a given artist page."
   ]
  },
  {
   "cell_type": "code",
   "execution_count": 9,
   "metadata": {},
   "outputs": [],
   "source": [
    "#Starter Code\n",
    "\n",
    "from bs4 import BeautifulSoup\n",
    "import requests\n",
    "\n",
    "def collect_links(artist_song_page): \n",
    "    \n",
    "    url = artist_song_page #Put the URL of your AZLyrics Artist Page here!\n",
    "\n",
    "    html_page = requests.get(url) #Make a get request to retrieve the page\n",
    "    soup = BeautifulSoup(html_page.content, 'html.parser') #Pass the page contents to beautiful soup for parsing\n",
    "\n",
    "\n",
    "    #The example from our lecture/reading\n",
    "    data = [] #Create a storage container\n",
    "    albums = soup.find_all(\"div\", class_=\"album\")\n",
    "    for album_n in range(len(albums)):\n",
    "        #On the last album, we won't be able to look forward\n",
    "        if album_n == len(albums)-1:\n",
    "            cur_album = albums[album_n]\n",
    "            album_songs = cur_album.findNextSiblings('a')\n",
    "            for song in album_songs:\n",
    "                page = song.get('href')\n",
    "                title = song.text\n",
    "                album = cur_album.text\n",
    "                data.append((title, page, album))\n",
    "        else:\n",
    "            cur_album = albums[album_n]\n",
    "            next_album = albums[album_n+1]\n",
    "            saca = cur_album.findNextSiblings('a') #songs after current album\n",
    "            sbna = next_album.findPreviousSiblings('a') #songs before next album\n",
    "            album_songs = [song for song in saca if song in sbna] #album songs are those listed after the current album but before the next one!\n",
    "            for song in album_songs:\n",
    "                page = song.get('href')\n",
    "                title = song.text\n",
    "                album = cur_album.text\n",
    "                data.append((title, page, album))\n",
    "    return data\n",
    "    #data[:2]"
   ]
  },
  {
   "cell_type": "markdown",
   "metadata": {},
   "source": [
    "## Text Scraping\n",
    "Write a secondary function that scrapes the lyrics for each song page."
   ]
  },
  {
   "cell_type": "code",
   "execution_count": 10,
   "metadata": {},
   "outputs": [
    {
     "data": {
      "text/plain": [
       "'<!DOCTYPE html>\\n<html lang=\"en\">\\n <head>\\n  <meta charset=\"utf-8\"/>\\n  <meta content=\"IE=edge\" http-equiv=\"X-UA-Compatible\"/>\\n  <meta content=\"width=device-width, initial-scale=1\" name=\"viewport\"/>\\n  <meta content=\"Lyrics to &quot;Sheezus&quot; song by Lily Allen: Been here before, so I\\'m prepared Not gonna lie though, I\\'m kinda scared Lace up my gloves, I\\'m goin...\" name=\"description\"/>\\n  <meta content=\"Sheezus lyrics, Lily Allen Sheezus lyrics, Lily Allen lyrics\" name=\"keywords\"/>\\n  <meta content=\"noarchive\" name=\"robots\"/>\\n  <meta content=\"//www.azlyrics.com/az_logo_tr.png\" property=\"og:image\"/>\\n  <title>\\n   Lily Allen - Sheezus Lyrics | AZLyrics.com\\n  </title>\\n  <link href=\"https://maxcdn.bootstrapcdn.com/bootstrap/3.3.4/css/bootstrap.min.css\" rel=\"stylesheet\"/>\\n  <link href=\"//www.azlyrics.com/bsaz.css\" rel=\"stylesheet\"/>\\n  <!-- HTML5 shim and Respond.js for IE8 support of HTML5 elements and media queries -->\\n  <!--[if lt IE 9]>\\r\\n<script src=\"https://oss.maxcdn.com/html5shiv/3.7.2/h'"
      ]
     },
     "execution_count": 10,
     "metadata": {},
     "output_type": "execute_result"
    }
   ],
   "source": [
    "#Remember to open up the webpage in a browser and control-click/right-click and go to inspect!\n",
    "from bs4 import BeautifulSoup\n",
    "import requests\n",
    "\n",
    "#Example page\n",
    "url = 'https://www.azlyrics.com/lyrics/lilyallen/sheezus.html'\n",
    "\n",
    "\n",
    "html_page = requests.get(url)\n",
    "soup = BeautifulSoup(html_page.content, 'html.parser')\n",
    "soup.prettify()[:1000]"
   ]
  },
  {
   "cell_type": "code",
   "execution_count": 11,
   "metadata": {},
   "outputs": [
    {
     "data": {
      "text/plain": [
       "\"\\n\\r\\nBeen here before, so I'm prepared\\nNot gonna lie though, I'm kinda scared\\nLace up my gloves, I'm going in\\nDon't let my kids watch me when I get in the ring\\n\\nI'll take the hits, roll with the punches\\nI'll get back up, it's not as if I've never done this\\nBut then again, the game is changing\\nCan't just come back, jump on the mic and do the same thing\\n\\nThere goes the bell, I know that sound\\nI guess it's time for me to go another round\\nNow wish me luck, I'm gonna need it\\nI'll see you on the other side, if I'm still breathing\\n\\nRiri isn't scared of Katy Perry's roaring\\nQueen B's gone back to the drawing\\nLorde smells blood, yeah, she's about to slay you\\nKid ain't one to fuck with when she's only on her debut\\n\\nWe're all watching Gaga, L-O-L like ha ha\\nDying for the art, so really she's a martyr\\nThe second best will never cut it for the divas\\nGive me that crown, bitch, I wanna be Sheezus\\n\\nI'm ready for all the comparisons\\nI think it's dumb and it's embarrassing\\nI'm switching off, no longer listening\\nI've had enough of persecution and conditioning\\n\\nMaybe it's instinct, we're only animal\\nMaybe it's healthy, maybe it's rational\\nIt makes me angry, I'm serious\\nBut then again, I'm just about to get my period\\n\\nPeriods, we all get periods\\nEvery month, yo that's what the theory is\\nIt's human nature, another cycle\\nBe nice to me, I'll make you one of my disciples\\n\\nRiri isn't scared of Katy Perry's roaring\\nQueen B's going back to the drawing\\nLorde smells blood, yeah, she's about to slay you\\nKid ain't one to fuck with when she's only on her debut\\n\\nWe're all watching Gaga, L-O-L like haha\\nDying for the art, so really she's a martyr\\nThe second best will never cut it for the divas\\nGive me that crown, bitch, I wanna be Sheezus\\n\\nI am born again, now run along and tell\\nAll of your friends to come and join us\\nGive yourselves to me, I am your leader\\nLet me be Sheezus\\nLet me be Sheezus\\n\\nI am born again, now run along and tell\\nAll of your friends to come and join us\\nGive yourselves to me, I am your leader\\nLet me be Sheezus\\n\""
      ]
     },
     "execution_count": 11,
     "metadata": {},
     "output_type": "execute_result"
    }
   ],
   "source": [
    "divs = soup.findAll('div')\n",
    "div = divs[0]\n",
    "\n",
    "for n, div in enumerate(divs):\n",
    "    if \"<!-- Usage of azlyrics.com content by any \" in div.text:\n",
    "        print(n)\n",
    "\n",
    "main_page = soup.find('div', {\"class\": \"container main-page\"})\n",
    "main_l2 = main_page.find('div', {\"class\" : \"row\"})\n",
    "main_l3 = main_l2.find('div', {\"class\" : \"col-xs-12 col-lg-8 text-center\"})\n",
    "\n",
    "lyrics = main_l3.findAll('div')[6].text\n",
    "lyrics"
   ]
  },
  {
   "cell_type": "code",
   "execution_count": 12,
   "metadata": {},
   "outputs": [],
   "source": [
    "def page_lyrics(song_page_url):\n",
    "    html_page = requests.get(song_page_url)\n",
    "    soup = BeautifulSoup(html_page.content, 'html.parser')\n",
    "    main_page = soup.find('div', {\"class\": \"container main-page\"})\n",
    "    main_l2 = main_page.find('div', {\"class\" : \"row\"})\n",
    "    main_l3 = main_l2.find('div', {\"class\" : \"col-xs-12 col-lg-8 text-center\"})\n",
    "    lyrics = main_l3.findAll('div')[6].text\n",
    "    return lyrics"
   ]
  },
  {
   "cell_type": "markdown",
   "metadata": {},
   "source": [
    "## Synthesizing\n",
    "Create a script using your two functions above to scrape all of the song lyrics for a given artist.\n"
   ]
  },
  {
   "cell_type": "code",
   "execution_count": 13,
   "metadata": {},
   "outputs": [
    {
     "name": "stdout",
     "output_type": "stream",
     "text": [
      "86\n",
      "('Smile', '../lyrics/lilyallen/smile.html', 'album: \"Alright, Still\" (2006)')\n"
     ]
    }
   ],
   "source": [
    "#Use this block for your code!\n",
    "songs = collect_links(\"https://www.azlyrics.com/l/lilyallen.html\")\n",
    "print(len(songs))\n",
    "print(songs[0])"
   ]
  },
  {
   "cell_type": "code",
   "execution_count": 14,
   "metadata": {},
   "outputs": [
    {
     "name": "stdout",
     "output_type": "stream",
     "text": [
      "86 86\n"
     ]
    }
   ],
   "source": [
    "url_base = \"https://www.azlyrics.com\"\n",
    "lyrics = []\n",
    "for song in songs:\n",
    "    try:\n",
    "        url_sffx = song[1].replace('..','')\n",
    "        url = url_base + url_sffx\n",
    "        lyr = page_lyrics(url)\n",
    "        lyrics.append(lyr)\n",
    "    except:\n",
    "        lyrics.append(\"N/A\")\n",
    "        \n",
    "print(len(songs), len(lyrics))"
   ]
  },
  {
   "cell_type": "code",
   "execution_count": 15,
   "metadata": {},
   "outputs": [
    {
     "data": {
      "text/html": [
       "<div>\n",
       "<style scoped>\n",
       "    .dataframe tbody tr th:only-of-type {\n",
       "        vertical-align: middle;\n",
       "    }\n",
       "\n",
       "    .dataframe tbody tr th {\n",
       "        vertical-align: top;\n",
       "    }\n",
       "\n",
       "    .dataframe thead th {\n",
       "        text-align: right;\n",
       "    }\n",
       "</style>\n",
       "<table border=\"1\" class=\"dataframe\">\n",
       "  <thead>\n",
       "    <tr style=\"text-align: right;\">\n",
       "      <th></th>\n",
       "      <th>0</th>\n",
       "      <th>1</th>\n",
       "    </tr>\n",
       "  </thead>\n",
       "  <tbody>\n",
       "    <tr>\n",
       "      <th>0</th>\n",
       "      <td>(Smile, ../lyrics/lilyallen/smile.html, album:...</td>\n",
       "      <td>\\n\\r\\nWhen you first left me I was wanting mor...</td>\n",
       "    </tr>\n",
       "    <tr>\n",
       "      <th>1</th>\n",
       "      <td>(Knock 'Em Out, ../lyrics/lilyallen/knockemout...</td>\n",
       "      <td>\\n\\r\\nAlright so this is a song about anyone, ...</td>\n",
       "    </tr>\n",
       "    <tr>\n",
       "      <th>2</th>\n",
       "      <td>(LDN, ../lyrics/lilyallen/ldn.html, album: \"Al...</td>\n",
       "      <td>\\n\\r\\nRiding through the city on my bike all d...</td>\n",
       "    </tr>\n",
       "    <tr>\n",
       "      <th>3</th>\n",
       "      <td>(Everything's Just Wonderful, ../lyrics/lilyal...</td>\n",
       "      <td>\\n\\r\\nDo you think, everything, everyone, is g...</td>\n",
       "    </tr>\n",
       "    <tr>\n",
       "      <th>4</th>\n",
       "      <td>(Not Big, ../lyrics/lilyallen/notbig.html, alb...</td>\n",
       "      <td>\\n\\r\\nNow listen I think you and me have come ...</td>\n",
       "    </tr>\n",
       "  </tbody>\n",
       "</table>\n",
       "</div>"
      ],
      "text/plain": [
       "                                                   0  \\\n",
       "0  (Smile, ../lyrics/lilyallen/smile.html, album:...   \n",
       "1  (Knock 'Em Out, ../lyrics/lilyallen/knockemout...   \n",
       "2  (LDN, ../lyrics/lilyallen/ldn.html, album: \"Al...   \n",
       "3  (Everything's Just Wonderful, ../lyrics/lilyal...   \n",
       "4  (Not Big, ../lyrics/lilyallen/notbig.html, alb...   \n",
       "\n",
       "                                                   1  \n",
       "0  \\n\\r\\nWhen you first left me I was wanting mor...  \n",
       "1  \\n\\r\\nAlright so this is a song about anyone, ...  \n",
       "2  \\n\\r\\nRiding through the city on my bike all d...  \n",
       "3  \\n\\r\\nDo you think, everything, everyone, is g...  \n",
       "4  \\n\\r\\nNow listen I think you and me have come ...  "
      ]
     },
     "execution_count": 15,
     "metadata": {},
     "output_type": "execute_result"
    }
   ],
   "source": [
    "import pandas as pd\n",
    "\n",
    "df = pd.DataFrame(list(zip(songs, lyrics)))\n",
    "df.head()"
   ]
  },
  {
   "cell_type": "code",
   "execution_count": 16,
   "metadata": {},
   "outputs": [
    {
     "data": {
      "text/html": [
       "<div>\n",
       "<style scoped>\n",
       "    .dataframe tbody tr th:only-of-type {\n",
       "        vertical-align: middle;\n",
       "    }\n",
       "\n",
       "    .dataframe tbody tr th {\n",
       "        vertical-align: top;\n",
       "    }\n",
       "\n",
       "    .dataframe thead th {\n",
       "        text-align: right;\n",
       "    }\n",
       "</style>\n",
       "<table border=\"1\" class=\"dataframe\">\n",
       "  <thead>\n",
       "    <tr style=\"text-align: right;\">\n",
       "      <th></th>\n",
       "      <th>0</th>\n",
       "      <th>Lyrics</th>\n",
       "      <th>Song_Name</th>\n",
       "      <th>Song_URL_SFFX</th>\n",
       "      <th>Album_Name</th>\n",
       "    </tr>\n",
       "  </thead>\n",
       "  <tbody>\n",
       "    <tr>\n",
       "      <th>0</th>\n",
       "      <td>(Smile, ../lyrics/lilyallen/smile.html, album:...</td>\n",
       "      <td>\\n\\r\\nWhen you first left me I was wanting mor...</td>\n",
       "      <td>Smile</td>\n",
       "      <td>../lyrics/lilyallen/smile.html</td>\n",
       "      <td>album: \"Alright, Still\" (2006)</td>\n",
       "    </tr>\n",
       "    <tr>\n",
       "      <th>1</th>\n",
       "      <td>(Knock 'Em Out, ../lyrics/lilyallen/knockemout...</td>\n",
       "      <td>\\n\\r\\nAlright so this is a song about anyone, ...</td>\n",
       "      <td>Knock 'Em Out</td>\n",
       "      <td>../lyrics/lilyallen/knockemout.html</td>\n",
       "      <td>album: \"Alright, Still\" (2006)</td>\n",
       "    </tr>\n",
       "    <tr>\n",
       "      <th>2</th>\n",
       "      <td>(LDN, ../lyrics/lilyallen/ldn.html, album: \"Al...</td>\n",
       "      <td>\\n\\r\\nRiding through the city on my bike all d...</td>\n",
       "      <td>LDN</td>\n",
       "      <td>../lyrics/lilyallen/ldn.html</td>\n",
       "      <td>album: \"Alright, Still\" (2006)</td>\n",
       "    </tr>\n",
       "    <tr>\n",
       "      <th>3</th>\n",
       "      <td>(Everything's Just Wonderful, ../lyrics/lilyal...</td>\n",
       "      <td>\\n\\r\\nDo you think, everything, everyone, is g...</td>\n",
       "      <td>Everything's Just Wonderful</td>\n",
       "      <td>../lyrics/lilyallen/everythingsjustwonderful.html</td>\n",
       "      <td>album: \"Alright, Still\" (2006)</td>\n",
       "    </tr>\n",
       "    <tr>\n",
       "      <th>4</th>\n",
       "      <td>(Not Big, ../lyrics/lilyallen/notbig.html, alb...</td>\n",
       "      <td>\\n\\r\\nNow listen I think you and me have come ...</td>\n",
       "      <td>Not Big</td>\n",
       "      <td>../lyrics/lilyallen/notbig.html</td>\n",
       "      <td>album: \"Alright, Still\" (2006)</td>\n",
       "    </tr>\n",
       "  </tbody>\n",
       "</table>\n",
       "</div>"
      ],
      "text/plain": [
       "                                                   0  \\\n",
       "0  (Smile, ../lyrics/lilyallen/smile.html, album:...   \n",
       "1  (Knock 'Em Out, ../lyrics/lilyallen/knockemout...   \n",
       "2  (LDN, ../lyrics/lilyallen/ldn.html, album: \"Al...   \n",
       "3  (Everything's Just Wonderful, ../lyrics/lilyal...   \n",
       "4  (Not Big, ../lyrics/lilyallen/notbig.html, alb...   \n",
       "\n",
       "                                              Lyrics  \\\n",
       "0  \\n\\r\\nWhen you first left me I was wanting mor...   \n",
       "1  \\n\\r\\nAlright so this is a song about anyone, ...   \n",
       "2  \\n\\r\\nRiding through the city on my bike all d...   \n",
       "3  \\n\\r\\nDo you think, everything, everyone, is g...   \n",
       "4  \\n\\r\\nNow listen I think you and me have come ...   \n",
       "\n",
       "                     Song_Name  \\\n",
       "0                        Smile   \n",
       "1                Knock 'Em Out   \n",
       "2                          LDN   \n",
       "3  Everything's Just Wonderful   \n",
       "4                      Not Big   \n",
       "\n",
       "                                       Song_URL_SFFX  \\\n",
       "0                     ../lyrics/lilyallen/smile.html   \n",
       "1                ../lyrics/lilyallen/knockemout.html   \n",
       "2                       ../lyrics/lilyallen/ldn.html   \n",
       "3  ../lyrics/lilyallen/everythingsjustwonderful.html   \n",
       "4                    ../lyrics/lilyallen/notbig.html   \n",
       "\n",
       "                       Album_Name  \n",
       "0  album: \"Alright, Still\" (2006)  \n",
       "1  album: \"Alright, Still\" (2006)  \n",
       "2  album: \"Alright, Still\" (2006)  \n",
       "3  album: \"Alright, Still\" (2006)  \n",
       "4  album: \"Alright, Still\" (2006)  "
      ]
     },
     "execution_count": 16,
     "metadata": {},
     "output_type": "execute_result"
    }
   ],
   "source": [
    "df['Song_Name'] = df[0].map(lambda x: x[0])\n",
    "df['Song_URL_SFFX'] = df[0].map(lambda x: x[1])\n",
    "df['Album_Name'] = df[0].map(lambda x: x[2])\n",
    "df = df.rename(columns={1:'Lyrics'})\n",
    "\n",
    "df.head()"
   ]
  },
  {
   "cell_type": "markdown",
   "metadata": {},
   "source": [
    "## Visualizing\n",
    "Generate two bar graphs to compare lyrical changes for the artist of your chose. For example, the two bar charts could compare the lyrics for two different songs or two different albums."
   ]
  },
  {
   "cell_type": "code",
   "execution_count": 18,
   "metadata": {},
   "outputs": [
    {
     "data": {
      "text/plain": [
       "I         27\n",
       "you       16\n",
       "me        14\n",
       "a         12\n",
       "it        10\n",
       "smile      8\n",
       "smile,     8\n",
       "At         8\n",
       "makes      8\n",
       "But        7\n",
       "dtype: int64"
      ]
     },
     "execution_count": 18,
     "metadata": {},
     "output_type": "execute_result"
    }
   ],
   "source": [
    "#Use this block for your code!\n",
    "import matplotlib.pyplot as plt\n",
    "import seaborn as sns\n",
    "%matplotlib inline\n",
    "sns.set_style('dark')\n",
    "\n",
    "pd.Series(df.Lyrics.iloc[0].split()).value_counts()[:10]"
   ]
  },
  {
   "cell_type": "code",
   "execution_count": 22,
   "metadata": {},
   "outputs": [
    {
     "name": "stdout",
     "output_type": "stream",
     "text": [
      "Text(0.5, 1.0, 'Chart 1: Top 10 Lyrics for Smile')\n",
      "Text(0.5, 1.0, \"Chart 2: Top 10 Lyrics for Knock 'Em Out\")\n"
     ]
    },
    {
     "data": {
      "image/png": "[encoded data removed]",
      "text/plain": [
       "<Figure size 720x576 with 2 Axes>"
      ]
     },
     "metadata": {},
     "output_type": "display_data"
    }
   ],
   "source": [
    "fig, axes = plt.subplots(1,2, figsize=(10,8))\n",
    "\n",
    "#Top 10 Words 1\n",
    "top10 = pd.Series(df.Lyrics.iloc[0].split()).value_counts()[:10]\n",
    "\n",
    "#Bar Chart 1\n",
    "top10.plot(ax=axes[0], kind='barh')\n",
    "print(axes[0].set_title('Chart 1: Top 10 Lyrics for {}'.format(df['Song_Name'].iloc[0])))\n",
    "\n",
    "#Top 10 Words 2\n",
    "top10 = pd.Series(df.Lyrics.iloc[1].split()).value_counts()[:10]\n",
    "\n",
    "#Bar Chart 2\n",
    "top10.plot(ax=axes[1], kind='barh')\n",
    "print(axes[1].set_title('Chart 2: Top 10 Lyrics for {}'.format(df['Song_Name'].iloc[1])))"
   ]
  },
  {
   "cell_type": "markdown",
   "metadata": {},
   "source": [
    "## Level - Up\n",
    "\n",
    "Think about how you structured the data from your web scraper. Did you scrape the entire song lyrics verbatim? Did you simply store the words and their frequency counts, or did you do something else entirely? List out a few different options for how you could have stored this data. What are advantages and disadvantages of each? Be specific and think about what sort of analyses each representation would lend itself to."
   ]
  },
  {
   "cell_type": "markdown",
   "metadata": {},
   "source": [
    "#Use this block for your code!"
   ]
  },
  {
   "cell_type": "markdown",
   "metadata": {},
   "source": [
    "## Summary"
   ]
  },
  {
   "cell_type": "markdown",
   "metadata": {},
   "source": [
    "Congratulations! You've now practiced your Beautiful Soup knowledge!"
   ]
  }
 ],
 "metadata": {
  "kernelspec": {
   "display_name": "learn-env",
   "language": "python",
   "name": "learn-env"
  },
  "language_info": {
   "codemirror_mode": {
    "name": "ipython",
    "version": 3
   },
   "file_extension": ".py",
   "mimetype": "text/x-python",
   "name": "python",
   "nbconvert_exporter": "python",
   "pygments_lexer": "ipython3",
   "version": "3.6.6"
  }
 },
 "nbformat": 4,
 "nbformat_minor": 2
}
